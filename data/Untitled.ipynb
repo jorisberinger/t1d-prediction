{
 "cells": [
  {
   "cell_type": "code",
   "execution_count": 9,
   "metadata": {},
   "outputs": [],
   "source": [
    "import pandas as pd\n",
    "import numpy as np\n",
    "from matplotlib import pyplot as plt\n",
    "from pandas.plotting import autocorrelation_plot\n",
    "from statsmodels.tsa.arima_model import ARIMA\n"
   ]
  },
  {
   "cell_type": "code",
   "execution_count": 10,
   "metadata": {},
   "outputs": [
    {
     "data": {
      "text/html": [
       "<div>\n",
       "<style scoped>\n",
       "    .dataframe tbody tr th:only-of-type {\n",
       "        vertical-align: middle;\n",
       "    }\n",
       "\n",
       "    .dataframe tbody tr th {\n",
       "        vertical-align: top;\n",
       "    }\n",
       "\n",
       "    .dataframe thead th {\n",
       "        text-align: right;\n",
       "    }\n",
       "</style>\n",
       "<table border=\"1\" class=\"dataframe\">\n",
       "  <thead>\n",
       "    <tr style=\"text-align: right;\">\n",
       "      <th></th>\n",
       "      <th>date</th>\n",
       "      <th>time</th>\n",
       "      <th>bgValue</th>\n",
       "      <th>cgmValue</th>\n",
       "      <th>cgmRawValue</th>\n",
       "      <th>cgmAlertValue</th>\n",
       "      <th>pumpCgmPredictionValue</th>\n",
       "      <th>glucoseAnnotation</th>\n",
       "      <th>basalValue</th>\n",
       "      <th>basalAnnotation</th>\n",
       "      <th>...</th>\n",
       "      <th>heartRateVariabilityValue</th>\n",
       "      <th>stressBalanceValue</th>\n",
       "      <th>stressValue</th>\n",
       "      <th>sleepValue</th>\n",
       "      <th>sleepAnnotation</th>\n",
       "      <th>locationAnnotation</th>\n",
       "      <th>mlCgmValue</th>\n",
       "      <th>mlAnnotation</th>\n",
       "      <th>insulinSensitivityFactor</th>\n",
       "      <th>otherAnnotation</th>\n",
       "    </tr>\n",
       "  </thead>\n",
       "  <tbody>\n",
       "    <tr>\n",
       "      <th>0</th>\n",
       "      <td>01.05.17</td>\n",
       "      <td>00:03</td>\n",
       "      <td>NaN</td>\n",
       "      <td>171.0</td>\n",
       "      <td>NaN</td>\n",
       "      <td>NaN</td>\n",
       "      <td>NaN</td>\n",
       "      <td>CGM_VENDOR_LIBRE</td>\n",
       "      <td>NaN</td>\n",
       "      <td>NaN</td>\n",
       "      <td>...</td>\n",
       "      <td>NaN</td>\n",
       "      <td>NaN</td>\n",
       "      <td>NaN</td>\n",
       "      <td>NaN</td>\n",
       "      <td>NaN</td>\n",
       "      <td>NaN</td>\n",
       "      <td>NaN</td>\n",
       "      <td>NaN</td>\n",
       "      <td>NaN</td>\n",
       "      <td>NaN</td>\n",
       "    </tr>\n",
       "    <tr>\n",
       "      <th>1</th>\n",
       "      <td>01.05.17</td>\n",
       "      <td>00:05</td>\n",
       "      <td>NaN</td>\n",
       "      <td>NaN</td>\n",
       "      <td>NaN</td>\n",
       "      <td>182.0</td>\n",
       "      <td>NaN</td>\n",
       "      <td>NaN</td>\n",
       "      <td>NaN</td>\n",
       "      <td>NaN</td>\n",
       "      <td>...</td>\n",
       "      <td>NaN</td>\n",
       "      <td>NaN</td>\n",
       "      <td>NaN</td>\n",
       "      <td>NaN</td>\n",
       "      <td>NaN</td>\n",
       "      <td>NaN</td>\n",
       "      <td>NaN</td>\n",
       "      <td>NaN</td>\n",
       "      <td>NaN</td>\n",
       "      <td>NaN</td>\n",
       "    </tr>\n",
       "    <tr>\n",
       "      <th>2</th>\n",
       "      <td>01.05.17</td>\n",
       "      <td>00:09</td>\n",
       "      <td>NaN</td>\n",
       "      <td>NaN</td>\n",
       "      <td>NaN</td>\n",
       "      <td>NaN</td>\n",
       "      <td>NaN</td>\n",
       "      <td>NaN</td>\n",
       "      <td>NaN</td>\n",
       "      <td>NaN</td>\n",
       "      <td>...</td>\n",
       "      <td>NaN</td>\n",
       "      <td>NaN</td>\n",
       "      <td>NaN</td>\n",
       "      <td>NaN</td>\n",
       "      <td>NaN</td>\n",
       "      <td>NaN</td>\n",
       "      <td>NaN</td>\n",
       "      <td>NaN</td>\n",
       "      <td>NaN</td>\n",
       "      <td>NaN</td>\n",
       "    </tr>\n",
       "    <tr>\n",
       "      <th>3</th>\n",
       "      <td>01.05.17</td>\n",
       "      <td>00:10</td>\n",
       "      <td>NaN</td>\n",
       "      <td>NaN</td>\n",
       "      <td>NaN</td>\n",
       "      <td>NaN</td>\n",
       "      <td>NaN</td>\n",
       "      <td>NaN</td>\n",
       "      <td>NaN</td>\n",
       "      <td>NaN</td>\n",
       "      <td>...</td>\n",
       "      <td>NaN</td>\n",
       "      <td>NaN</td>\n",
       "      <td>NaN</td>\n",
       "      <td>NaN</td>\n",
       "      <td>NaN</td>\n",
       "      <td>NaN</td>\n",
       "      <td>NaN</td>\n",
       "      <td>NaN</td>\n",
       "      <td>NaN</td>\n",
       "      <td>NaN</td>\n",
       "    </tr>\n",
       "    <tr>\n",
       "      <th>4</th>\n",
       "      <td>01.05.17</td>\n",
       "      <td>00:18</td>\n",
       "      <td>NaN</td>\n",
       "      <td>151.0</td>\n",
       "      <td>NaN</td>\n",
       "      <td>NaN</td>\n",
       "      <td>NaN</td>\n",
       "      <td>CGM_VENDOR_LIBRE</td>\n",
       "      <td>NaN</td>\n",
       "      <td>NaN</td>\n",
       "      <td>...</td>\n",
       "      <td>NaN</td>\n",
       "      <td>NaN</td>\n",
       "      <td>NaN</td>\n",
       "      <td>NaN</td>\n",
       "      <td>NaN</td>\n",
       "      <td>NaN</td>\n",
       "      <td>NaN</td>\n",
       "      <td>NaN</td>\n",
       "      <td>NaN</td>\n",
       "      <td>NaN</td>\n",
       "    </tr>\n",
       "  </tbody>\n",
       "</table>\n",
       "<p>5 rows × 28 columns</p>\n",
       "</div>"
      ],
      "text/plain": [
       "       date   time  bgValue  cgmValue  cgmRawValue  cgmAlertValue  \\\n",
       "0  01.05.17  00:03      NaN     171.0          NaN            NaN   \n",
       "1  01.05.17  00:05      NaN       NaN          NaN          182.0   \n",
       "2  01.05.17  00:09      NaN       NaN          NaN            NaN   \n",
       "3  01.05.17  00:10      NaN       NaN          NaN            NaN   \n",
       "4  01.05.17  00:18      NaN     151.0          NaN            NaN   \n",
       "\n",
       "   pumpCgmPredictionValue glucoseAnnotation  basalValue basalAnnotation  \\\n",
       "0                     NaN  CGM_VENDOR_LIBRE         NaN             NaN   \n",
       "1                     NaN               NaN         NaN             NaN   \n",
       "2                     NaN               NaN         NaN             NaN   \n",
       "3                     NaN               NaN         NaN             NaN   \n",
       "4                     NaN  CGM_VENDOR_LIBRE         NaN             NaN   \n",
       "\n",
       "        ...         heartRateVariabilityValue stressBalanceValue  stressValue  \\\n",
       "0       ...                               NaN                NaN          NaN   \n",
       "1       ...                               NaN                NaN          NaN   \n",
       "2       ...                               NaN                NaN          NaN   \n",
       "3       ...                               NaN                NaN          NaN   \n",
       "4       ...                               NaN                NaN          NaN   \n",
       "\n",
       "   sleepValue sleepAnnotation  locationAnnotation mlCgmValue  mlAnnotation  \\\n",
       "0         NaN             NaN                 NaN        NaN           NaN   \n",
       "1         NaN             NaN                 NaN        NaN           NaN   \n",
       "2         NaN             NaN                 NaN        NaN           NaN   \n",
       "3         NaN             NaN                 NaN        NaN           NaN   \n",
       "4         NaN             NaN                 NaN        NaN           NaN   \n",
       "\n",
       "   insulinSensitivityFactor  otherAnnotation  \n",
       "0                       NaN              NaN  \n",
       "1                       NaN              NaN  \n",
       "2                       NaN              NaN  \n",
       "3                       NaN              NaN  \n",
       "4                       NaN              NaN  \n",
       "\n",
       "[5 rows x 28 columns]"
      ]
     },
     "execution_count": 10,
     "metadata": {},
     "output_type": "execute_result"
    }
   ],
   "source": [
    "data = pd.read_csv(\"csv/data_17_5.csv\")\n",
    "data.head()"
   ]
  },
  {
   "cell_type": "markdown",
   "metadata": {},
   "source": []
  },
  {
   "cell_type": "code",
   "execution_count": 3,
   "metadata": {},
   "outputs": [
    {
     "data": {
      "image/png": "[encoded data removed]",
      "text/plain": [
       "<matplotlib.figure.Figure at 0x25dce07c898>"
      ]
     },
     "metadata": {
      "needs_background": "light"
     },
     "output_type": "display_data"
    }
   ],
   "source": [
    "autocorrelation_plot(data['cgmValue'])\n",
    "plt.show()\n",
    "\n",
    "\n"
   ]
  },
  {
   "cell_type": "code",
   "execution_count": 29,
   "metadata": {},
   "outputs": [
    {
     "name": "stderr",
     "output_type": "stream",
     "text": [
      "c:\\users\\joris\\appdata\\local\\programs\\python\\python36\\lib\\site-packages\\statsmodels\\tsa\\base\\tsa_model.py:221: ValueWarning: An unsupported index was provided and will be ignored when e.g. forecasting.\n",
      "  ' ignored when e.g. forecasting.', ValueWarning)\n",
      "c:\\users\\joris\\appdata\\local\\programs\\python\\python36\\lib\\site-packages\\statsmodels\\tsa\\base\\tsa_model.py:221: ValueWarning: An unsupported index was provided and will be ignored when e.g. forecasting.\n",
      "  ' ignored when e.g. forecasting.', ValueWarning)\n"
     ]
    }
   ],
   "source": [
    "\n",
    "\n",
    "model = ARIMA(data['cgmValue'].loc[data['cgmValue'].notnull()], order=(1, 1, 1))\n",
    "model_fit = model.fit()\n",
    "\n"
   ]
  },
  {
   "cell_type": "code",
   "execution_count": 27,
   "metadata": {},
   "outputs": [
    {
     "name": "stdout",
     "output_type": "stream",
     "text": [
      "                             ARIMA Model Results                              \n",
      "==============================================================================\n",
      "Dep. Variable:             D.cgmValue   No. Observations:                 2949\n",
      "Model:                 ARIMA(1, 1, 1)   Log Likelihood              -11263.111\n",
      "Method:                       css-mle   S.D. of innovations             11.025\n",
      "Date:                Sun, 10 Feb 2019   AIC                          22534.222\n",
      "Time:                        18:38:08   BIC                          22558.179\n",
      "Sample:                             1   HQIC                         22542.846\n",
      "                                                                              \n",
      "====================================================================================\n",
      "                       coef    std err          z      P>|z|      [0.025      0.975]\n",
      "------------------------------------------------------------------------------------\n",
      "const               -0.0333      0.622     -0.054      0.957      -1.253       1.186\n",
      "ar.L1.D.cgmValue     0.4720      0.019     25.418      0.000       0.436       0.508\n",
      "ma.L1.D.cgmValue     0.6190      0.015     41.321      0.000       0.590       0.648\n",
      "                                    Roots                                    \n",
      "=============================================================================\n",
      "                  Real          Imaginary           Modulus         Frequency\n",
      "-----------------------------------------------------------------------------\n",
      "AR.1            2.1188           +0.0000j            2.1188            0.0000\n",
      "MA.1           -1.6155           +0.0000j            1.6155            0.5000\n",
      "-----------------------------------------------------------------------------\n"
     ]
    }
   ],
   "source": [
    "print(model_fit.summary())"
   ]
  },
  {
   "cell_type": "code",
   "execution_count": 28,
   "metadata": {},
   "outputs": [
    {
     "data": {
      "image/png": "[encoded data removed]",
      "text/plain": [
       "<matplotlib.figure.Figure at 0x25dd25c3470>"
      ]
     },
     "metadata": {
      "needs_background": "light"
     },
     "output_type": "display_data"
    },
    {
     "data": {
      "image/png": "[encoded data removed]",
      "text/plain": [
       "<matplotlib.figure.Figure at 0x25dd2619550>"
      ]
     },
     "metadata": {
      "needs_background": "light"
     },
     "output_type": "display_data"
    },
    {
     "name": "stdout",
     "output_type": "stream",
     "text": [
      "                 0\n",
      "count  2949.000000\n",
      "mean      0.000225\n",
      "std      11.030996\n",
      "min     -91.828297\n",
      "25%      -5.219099\n",
      "50%      -0.139370\n",
      "75%       5.131314\n",
      "max      67.894281\n"
     ]
    }
   ],
   "source": [
    "# plot residual errors\n",
    "residuals = pd.DataFrame(model_fit.resid)\n",
    "residuals.plot()\n",
    "plt.show()\n",
    "residuals.plot(kind='kde')\n",
    "plt.axvline(x=0, ymin=0, ymax=1)\n",
    "plt.show()\n",
    "print(residuals.describe())"
   ]
  },
  {
   "cell_type": "code",
   "execution_count": null,
   "metadata": {},
   "outputs": [],
   "source": []
  }
 ],
 "metadata": {
  "kernelspec": {
   "display_name": "Python 3",
   "language": "python",
   "name": "python3"
  },
  "language_info": {
   "codemirror_mode": {
    "name": "ipython",
    "version": 3
   },
   "file_extension": ".py",
   "mimetype": "text/x-python",
   "name": "python",
   "nbconvert_exporter": "python",
   "pygments_lexer": "ipython3",
   "version": "3.6.8"
  }
 },
 "nbformat": 4,
 "nbformat_minor": 2
}
